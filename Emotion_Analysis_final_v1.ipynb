{
 "cells": [
  {
   "cell_type": "code",
   "execution_count": 53,
   "metadata": {
    "colab": {
     "base_uri": "https://localhost:8080/"
    },
    "id": "T_gJcaF1bkhG",
    "outputId": "880e8e86-0550-4c80-8c48-7533ba329f72"
   },
   "outputs": [
    {
     "data": {
      "text/plain": [
       "\"from google.colab import drive\\ndrive.mount('/content/drive')\""
      ]
     },
     "execution_count": 53,
     "metadata": {},
     "output_type": "execute_result"
    }
   ],
   "source": [
    "# Uncomment below  lines if  working  on google  colab\n",
    "\"\"\"from google.colab import drive\n",
    "drive.mount('/content/drive')\"\"\""
   ]
  },
  {
   "cell_type": "code",
   "execution_count": 54,
   "metadata": {
    "colab": {
     "base_uri": "https://localhost:8080/"
    },
    "id": "0c7SZkOD7bmx",
    "outputId": "083a3228-2bf2-4e47-b010-27f49e7b3e72",
    "scrolled": true
   },
   "outputs": [
    {
     "name": "stdout",
     "output_type": "stream",
     "text": [
      "Requirement already satisfied: twitter in d:\\users\\sushil\\sushil\\anaconda\\installed\\lib\\site-packages (1.18.0)\n",
      "Requirement already satisfied: wordcloud in d:\\users\\sushil\\sushil\\anaconda\\installed\\lib\\site-packages (1.8.1)\n",
      "Requirement already satisfied: matplotlib in d:\\users\\sushil\\sushil\\anaconda\\installed\\lib\\site-packages (from wordcloud) (3.3.2)\n",
      "Requirement already satisfied: numpy>=1.6.1 in d:\\users\\sushil\\sushil\\anaconda\\installed\\lib\\site-packages (from wordcloud) (1.19.2)\n",
      "Requirement already satisfied: pillow in d:\\users\\sushil\\sushil\\anaconda\\installed\\lib\\site-packages (from wordcloud) (8.0.1)\n",
      "Requirement already satisfied: certifi>=2020.06.20 in d:\\users\\sushil\\sushil\\anaconda\\installed\\lib\\site-packages (from matplotlib->wordcloud) (2020.6.20)\n",
      "Requirement already satisfied: cycler>=0.10 in d:\\users\\sushil\\sushil\\anaconda\\installed\\lib\\site-packages (from matplotlib->wordcloud) (0.10.0)\n",
      "Requirement already satisfied: python-dateutil>=2.1 in d:\\users\\sushil\\sushil\\anaconda\\installed\\lib\\site-packages (from matplotlib->wordcloud) (2.8.1)\n",
      "Requirement already satisfied: kiwisolver>=1.0.1 in d:\\users\\sushil\\sushil\\anaconda\\installed\\lib\\site-packages (from matplotlib->wordcloud) (1.3.0)\n",
      "Requirement already satisfied: pyparsing!=2.0.4,!=2.1.2,!=2.1.6,>=2.0.3 in d:\\users\\sushil\\sushil\\anaconda\\installed\\lib\\site-packages (from matplotlib->wordcloud) (2.4.7)\n",
      "Requirement already satisfied: six in d:\\users\\sushil\\sushil\\anaconda\\installed\\lib\\site-packages (from cycler>=0.10->matplotlib->wordcloud) (1.15.0)\n",
      "Requirement already satisfied: spacy in d:\\users\\sushil\\sushil\\anaconda\\installed\\lib\\site-packages (3.0.5)\n",
      "Requirement already satisfied: typer<0.4.0,>=0.3.0 in d:\\users\\sushil\\sushil\\anaconda\\installed\\lib\\site-packages (from spacy) (0.3.2)\n",
      "Requirement already satisfied: tqdm<5.0.0,>=4.38.0 in d:\\users\\sushil\\sushil\\anaconda\\installed\\lib\\site-packages (from spacy) (4.50.2)\n",
      "Requirement already satisfied: numpy>=1.15.0 in d:\\users\\sushil\\sushil\\anaconda\\installed\\lib\\site-packages (from spacy) (1.19.2)\n",
      "Requirement already satisfied: srsly<3.0.0,>=2.4.0 in d:\\users\\sushil\\sushil\\anaconda\\installed\\lib\\site-packages (from spacy) (2.4.1)\n",
      "Requirement already satisfied: blis<0.8.0,>=0.4.0 in d:\\users\\sushil\\sushil\\anaconda\\installed\\lib\\site-packages (from spacy) (0.7.4)\n",
      "Requirement already satisfied: murmurhash<1.1.0,>=0.28.0 in d:\\users\\sushil\\sushil\\anaconda\\installed\\lib\\site-packages (from spacy) (1.0.5)\n",
      "Requirement already satisfied: wasabi<1.1.0,>=0.8.1 in d:\\users\\sushil\\sushil\\anaconda\\installed\\lib\\site-packages (from spacy) (0.8.2)\n",
      "Requirement already satisfied: setuptools in d:\\users\\sushil\\sushil\\anaconda\\installed\\lib\\site-packages (from spacy) (50.3.1.post20201107)\n",
      "Requirement already satisfied: thinc<8.1.0,>=8.0.2 in d:\\users\\sushil\\sushil\\anaconda\\installed\\lib\\site-packages (from spacy) (8.0.3)\n",
      "Requirement already satisfied: jinja2 in d:\\users\\sushil\\sushil\\anaconda\\installed\\lib\\site-packages (from spacy) (2.11.2)\n",
      "Requirement already satisfied: preshed<3.1.0,>=3.0.2 in d:\\users\\sushil\\sushil\\anaconda\\installed\\lib\\site-packages (from spacy) (3.0.5)\n",
      "Requirement already satisfied: spacy-legacy<3.1.0,>=3.0.0 in d:\\users\\sushil\\sushil\\anaconda\\installed\\lib\\site-packages (from spacy) (3.0.5)\n",
      "Requirement already satisfied: cymem<2.1.0,>=2.0.2 in d:\\users\\sushil\\sushil\\anaconda\\installed\\lib\\site-packages (from spacy) (2.0.5)\n",
      "Requirement already satisfied: catalogue<2.1.0,>=2.0.1 in d:\\users\\sushil\\sushil\\anaconda\\installed\\lib\\site-packages (from spacy) (2.0.4)\n",
      "Requirement already satisfied: packaging>=20.0 in d:\\users\\sushil\\sushil\\anaconda\\installed\\lib\\site-packages (from spacy) (20.4)\n",
      "Requirement already satisfied: requests<3.0.0,>=2.13.0 in d:\\users\\sushil\\sushil\\anaconda\\installed\\lib\\site-packages (from spacy) (2.25.1)\n",
      "Requirement already satisfied: pydantic<1.8.0,>=1.7.1 in d:\\users\\sushil\\sushil\\anaconda\\installed\\lib\\site-packages (from spacy) (1.7.3)\n",
      "Requirement already satisfied: pathy>=0.3.5 in d:\\users\\sushil\\sushil\\anaconda\\installed\\lib\\site-packages (from spacy) (0.4.0)\n",
      "Requirement already satisfied: click<7.2.0,>=7.1.1 in d:\\users\\sushil\\sushil\\anaconda\\installed\\lib\\site-packages (from typer<0.4.0,>=0.3.0->spacy) (7.1.2)\n",
      "Requirement already satisfied: MarkupSafe>=0.23 in d:\\users\\sushil\\sushil\\anaconda\\installed\\lib\\site-packages (from jinja2->spacy) (1.1.1)\n",
      "Requirement already satisfied: six in d:\\users\\sushil\\sushil\\anaconda\\installed\\lib\\site-packages (from packaging>=20.0->spacy) (1.15.0)\n",
      "Requirement already satisfied: pyparsing>=2.0.2 in d:\\users\\sushil\\sushil\\anaconda\\installed\\lib\\site-packages (from packaging>=20.0->spacy) (2.4.7)\n",
      "Requirement already satisfied: idna<3,>=2.5 in d:\\users\\sushil\\sushil\\anaconda\\installed\\lib\\site-packages (from requests<3.0.0,>=2.13.0->spacy) (2.10)\n",
      "Requirement already satisfied: urllib3<1.27,>=1.21.1 in d:\\users\\sushil\\sushil\\anaconda\\installed\\lib\\site-packages (from requests<3.0.0,>=2.13.0->spacy) (1.25.11)\n",
      "Requirement already satisfied: chardet<5,>=3.0.2 in d:\\users\\sushil\\sushil\\anaconda\\installed\\lib\\site-packages (from requests<3.0.0,>=2.13.0->spacy) (3.0.4)\n",
      "Requirement already satisfied: certifi>=2017.4.17 in d:\\users\\sushil\\sushil\\anaconda\\installed\\lib\\site-packages (from requests<3.0.0,>=2.13.0->spacy) (2020.6.20)\n",
      "Requirement already satisfied: smart-open<4.0.0,>=2.2.0 in d:\\users\\sushil\\sushil\\anaconda\\installed\\lib\\site-packages (from pathy>=0.3.5->spacy) (3.0.0)\n",
      "Requirement already satisfied: nltk in d:\\users\\sushil\\sushil\\anaconda\\installed\\lib\\site-packages (3.5)\n",
      "Requirement already satisfied: click in d:\\users\\sushil\\sushil\\anaconda\\installed\\lib\\site-packages (from nltk) (7.1.2)\n",
      "Requirement already satisfied: regex in d:\\users\\sushil\\sushil\\anaconda\\installed\\lib\\site-packages (from nltk) (2020.10.15)\n",
      "Requirement already satisfied: tqdm in d:\\users\\sushil\\sushil\\anaconda\\installed\\lib\\site-packages (from nltk) (4.50.2)\n",
      "Requirement already satisfied: joblib in d:\\users\\sushil\\sushil\\anaconda\\installed\\lib\\site-packages (from nltk) (0.17.0)\n"
     ]
    }
   ],
   "source": [
    "!pip install twitter\n",
    "!pip install wordcloud\n",
    "!pip install spacy\n",
    "!pip install nltk"
   ]
  },
  {
   "cell_type": "code",
   "execution_count": 55,
   "metadata": {},
   "outputs": [
    {
     "data": {
      "text/plain": [
       "'!pip  show requests\\n!pip  install  util'"
      ]
     },
     "execution_count": 55,
     "metadata": {},
     "output_type": "execute_result"
    }
   ],
   "source": [
    "\"\"\"!pip  show requests\n",
    "!pip  install  util\"\"\""
   ]
  },
  {
   "cell_type": "code",
   "execution_count": 56,
   "metadata": {},
   "outputs": [],
   "source": [
    "#!pip  install  -U spacy"
   ]
  },
  {
   "cell_type": "code",
   "execution_count": 57,
   "metadata": {
    "colab": {
     "base_uri": "https://localhost:8080/"
    },
    "id": "PmjXhPeTERRR",
    "outputId": "11d3c311-847b-433e-aad0-e31b8a64c5ac"
   },
   "outputs": [
    {
     "name": "stderr",
     "output_type": "stream",
     "text": [
      "[nltk_data] Downloading package stopwords to C:\\Users\\Sushil\n",
      "[nltk_data]     Kumar\\AppData\\Roaming\\nltk_data...\n",
      "[nltk_data]   Package stopwords is already up-to-date!\n"
     ]
    }
   ],
   "source": [
    "# LIBRARY TO WORK WITH TWITTER  API\n",
    "#!pip install twitter\n",
    "import twitter\n",
    "import random\n",
    "import pandas as pd\n",
    "import numpy as np\n",
    "import matplotlib.pyplot as plt\n",
    "import seaborn as sns\n",
    "import json\n",
    "import re\n",
    "import unicodedata\n",
    "from wordcloud import WordCloud\n",
    "#import spacy\n",
    "from spacy.lang.en.stop_words import STOP_WORDS\n",
    "import nltk\n",
    "nltk.download('stopwords')\n",
    "from nltk.corpus import stopwords\n",
    "#import sklearn\n",
    "from nltk.stem.porter import PorterStemmer\n",
    "ps=PorterStemmer()"
   ]
  },
  {
   "cell_type": "code",
   "execution_count": 58,
   "metadata": {
    "id": "fxxFsk560XUL"
   },
   "outputs": [],
   "source": [
    "import pprint\n"
   ]
  },
  {
   "cell_type": "code",
   "execution_count": 59,
   "metadata": {
    "id": "6GHclYorbhNQ"
   },
   "outputs": [],
   "source": [
    "STOP_WORDS.add(\"name\")\n",
    "STOP_WORDS.add(\"people\")\n",
    "STOP_WORDS.add(\"peopl\")\n",
    "STOP_WORDS.add(\"Im\")\n",
    "STOP_WORDS.add(\"ed\")"
   ]
  },
  {
   "cell_type": "code",
   "execution_count": 60,
   "metadata": {
    "id": "1mpNVi_ETvQW"
   },
   "outputs": [],
   "source": [
    "CONSUMER_KEY = 'Ri9pFOQqXSnHm8p8IZj5QCw26'\n",
    "CONSUMER_SECRET = 'hRrAioGsLbwWHp0fAmrCNZkbhOd2E3mRYeAQ6OUZlQD36y1jej'\n",
    "OAUTH_TOKEN = '1258017464174219269-y9B2ac2711bcaYEHoSqi3qJ7RXGuMY'\n",
    "OAUTH_TOKEN_SECRET = 'i8JW4em2QuH0e4H5Ahy9SYn0wXSBDaafDsZJrmweYc79Z'\n",
    "auth = twitter.OAuth(OAUTH_TOKEN, OAUTH_TOKEN_SECRET,\n",
    "CONSUMER_KEY, CONSUMER_SECRET)\n",
    "twitter_api = twitter.Twitter(auth=auth)\n"
   ]
  },
  {
   "cell_type": "code",
   "execution_count": 61,
   "metadata": {
    "id": "r6LzwDYKE7ey",
    "scrolled": true
   },
   "outputs": [],
   "source": [
    "\n",
    "WORLD_WOE_ID = 23424977\n",
    "DL_WOE_ID = 20070458\n",
    "world_trends = twitter_api.trends.place(_id = WORLD_WOE_ID)\n",
    "delhi_trends = twitter_api.trends.place(_id = DL_WOE_ID)"
   ]
  },
  {
   "cell_type": "code",
   "execution_count": 62,
   "metadata": {
    "id": "oeyz4BWe3iQj"
   },
   "outputs": [],
   "source": [
    "# #hashtag counts   # why u did this?\n",
    "def hashtag_count(x):\n",
    "    hashtag=0\n",
    "    word_list = x.split(' ')\n",
    "    for word in word_list:\n",
    "        if word.startswith('#'):\n",
    "            hashtag+=1\n",
    "    return hashtag\n"
   ]
  },
  {
   "cell_type": "code",
   "execution_count": 63,
   "metadata": {
    "id": "UIC98v5j3rDJ"
   },
   "outputs": [],
   "source": [
    "# mentions counts\n",
    "def mention_count(x):\n",
    "    mentions=0\n",
    "    word_list = x.split(' ')\n",
    "    for word in word_list:\n",
    "        if word.startswith('@'):\n",
    "            mentions+=1\n",
    "    return mentions\n"
   ]
  },
  {
   "cell_type": "code",
   "execution_count": 64,
   "metadata": {
    "id": "fxi8yHShFU6V"
   },
   "outputs": [],
   "source": [
    "# Average word length\n",
    "def get_average_word_len(x):\n",
    "    words_list = x.split(' ')\n",
    "    word_len = 0\n",
    "    for word in words_list:\n",
    "        word_len+=len(word)\n",
    "    return word_len/len(words_list)\n"
   ]
  },
  {
   "cell_type": "code",
   "execution_count": 65,
   "metadata": {
    "id": "5DmWzv-1QG96"
   },
   "outputs": [],
   "source": [
    "# contractions to expansions\n",
    "contractions = { \n",
    "\"ain't\": \"am not / are not / is not / has not / have not\",\n",
    "\"aren't\": \"are not / am not\",\n",
    "\"can't\": \"cannot\",\n",
    "\"can't've\": \"cannot have\",\n",
    "\"'cause\": \"because\",\n",
    "\"could've\": \"could have\",\n",
    "\"couldn't\": \"could not\",\n",
    "\"couldn't've\": \"could not have\",\n",
    "\"didn't\": \"did not\",\n",
    "\"doesn't\": \"does not\",\n",
    "\"don't\": \"do not\",\n",
    "\"hadn't\": \"had not\",\n",
    "\"hadn't've\": \"had not have\",\n",
    "\"hasn't\": \"has not\",\n",
    "\"haven't\": \"have not\",\n",
    "\"he'd\": \"he had / he would\",\n",
    "\"he'd've\": \"he would have\",\n",
    "\"he'll\": \"he shall / he will\",\n",
    "\"he'll've\": \"he shall have / he will have\",\n",
    "\"he's\": \"he has / he is\",\n",
    "\"how'd\": \"how did\",\n",
    "\"how'd'y\": \"how do you\",\n",
    "\"how'll\": \"how will\",\n",
    "\"how's\": \"how has / how is / how does\",\n",
    "\"i'd\": \"I had / I would\",\n",
    "\"i'd've\": \"I would have\",\n",
    "\"i'll\": \"I shall / I will\",\n",
    "\"i'll've\": \"I shall have / I will have\",\n",
    "\"i'm\": \"I am\",\n",
    "\"i've\": \"I have\",\n",
    "\"isn't\": \"is not\",\n",
    "\"it'd\": \"it had / it would\",\n",
    "\"it'd've\": \"it would have\",\n",
    "\"it'll\": \"it shall / it will\",\n",
    "\"it'll've\": \"it shall have / it will have\",\n",
    "\"it's\": \"it has / it is\",\n",
    "\"let's\": \"let us\",\n",
    "\"ma'am\": \"madam\",\n",
    "\"mayn't\": \"may not\",\n",
    "\"might've\": \"might have\",\n",
    "\"mightn't\": \"might not\",\n",
    "\"mightn't've\": \"might not have\",\n",
    "\"must've\": \"must have\",\n",
    "\"mustn't\": \"must not\",\n",
    "\"mustn't've\": \"must not have\",\n",
    "\"needn't\": \"need not\",\n",
    "\"needn't've\": \"need not have\",\n",
    "\"o'clock\": \"of the clock\",\n",
    "\"oughtn't\": \"ought not\",\n",
    "\"oughtn't've\": \"ought not have\",\n",
    "\"shan't\": \"shall not\",\n",
    "\"sha'n't\": \"shall not\",\n",
    "\"shan't've\": \"shall not have\",\n",
    "\"she'd\": \"she had / she would\",\n",
    "\"she'd've\": \"she would have\",\n",
    "\"she'll\": \"she shall / she will\",\n",
    "\"she'll've\": \"she shall have / she will have\",\n",
    "\"she's\": \"she has / she is\",\n",
    "\"should've\": \"should have\",\n",
    "\"shouldn't\": \"should not\",\n",
    "\"shouldn't've\": \"should not have\",\n",
    "\"so've\": \"so have\",\n",
    "\"so's\": \"so as / so is\",\n",
    "\"that'd\": \"that would / that had\",\n",
    "\"that'd've\": \"that would have\",\n",
    "\"that's\": \"that has / that is\",\n",
    "\"there'd\": \"there had / there would\",\n",
    "\"there'd've\": \"there would have\",\n",
    "\"there's\": \"there has / there is\",\n",
    "\"they'd\": \"they had / they would\",\n",
    "\"they'd've\": \"they would have\",\n",
    "\"they'll\": \"they shall / they will\",\n",
    "\"they'll've\": \"they shall have / they will have\",\n",
    "\"they're\": \"they are\",\n",
    "\"they've\": \"they have\",\n",
    "\"to've\": \"to have\",\n",
    "\"wasn't\": \"was not\",\n",
    "\"we'd\": \"we had / we would\",\n",
    "\"we'd've\": \"we would have\",\n",
    "\"we'll\": \"we will\",\n",
    "\"we'll've\": \"we will have\",\n",
    "\"we're\": \"we are\",\n",
    "\"we've\": \"we have\",\n",
    "\"weren't\": \"were not\",\n",
    "\"what'll\": \"what shall / what will\",\n",
    "\"what'll've\": \"what shall have / what will have\",\n",
    "\"what're\": \"what are\",\n",
    "\"what's\": \"what has / what is\",\n",
    "\"what've\": \"what have\",\n",
    "\"when's\": \"when has / when is\",\n",
    "\"when've\": \"when have\",\n",
    "\"where'd\": \"where did\",\n",
    "\"where's\": \"where has / where is\",\n",
    "\"where've\": \"where have\",\n",
    "\"who'll\": \"who shall / who will\",\n",
    "\"who'll've\": \"who shall have / who will have\",\n",
    "\"who's\": \"who has / who is\",\n",
    "\"who've\": \"who have\",\n",
    "\"why's\": \"why has / why is\",\n",
    "\"why've\": \"why have\",\n",
    "\"will've\": \"will have\",\n",
    "\"won't\": \"will not\",\n",
    "\"won't've\": \"will not have\",\n",
    "\"would've\": \"would have\",\n",
    "\"wouldn't\": \"would not\",\n",
    "\"wouldn't've\": \"would not have\",\n",
    "\"y'all\": \"you all\",\n",
    "\"y'all'd\": \"you all would\",\n",
    "\"y'all'd've\": \"you all would have\",\n",
    "\"y'all're\": \"you all are\",\n",
    "\"y'all've\": \"you all have\",\n",
    "\"you'd\": \"you had / you would\",\n",
    "\"you'd've\": \"you would have\",\n",
    "\"you'll\": \"you shall / you will\",\n",
    "\"you'll've\": \"you shall have / you will have\",\n",
    "\"you're\": \"you are\",\n",
    "\"you've\": \"you have\",\n",
    "\"b'day\" : \"birthday\",\n",
    "\"bday\" : \"birthday\",\n",
    "\"don't\" : \"do not\",\n",
    "\"dont\" : \"do not\",\n",
    "}"
   ]
  },
  {
   "cell_type": "code",
   "execution_count": 66,
   "metadata": {
    "id": "IFAlCOQpQIIK"
   },
   "outputs": [],
   "source": [
    "def cont_to_exp(x):\n",
    "    if type(x)==str:\n",
    "        for key in contractions:\n",
    "            value=contractions[key]\n",
    "            x=x.replace(key,value)\n",
    "    return x"
   ]
  },
  {
   "cell_type": "code",
   "execution_count": 67,
   "metadata": {
    "id": "XWEhuBkjbhNU"
   },
   "outputs": [],
   "source": [
    "# stop word count\n",
    "def stop_word_count(x):\n",
    "    words_list = x.split(' ')\n",
    "    count=0\n",
    "    for word in words_list:\n",
    "        if word in STOP_WORDS:\n",
    "            count+=1\n",
    "    return count"
   ]
  },
  {
   "cell_type": "code",
   "execution_count": 68,
   "metadata": {
    "id": "22M_wGlhbhNV"
   },
   "outputs": [],
   "source": [
    "def get_email_count(x):\n",
    "    return(len(re.findall(r'[a-zA-z0-9._-]+@[a-zA-Z0-9._-]+\\.[a-zA-Z0-9_-]+',x )))"
   ]
  },
  {
   "cell_type": "code",
   "execution_count": 69,
   "metadata": {
    "id": "vEVv4tXYbhNV"
   },
   "outputs": [],
   "source": [
    "# remove emails \n",
    "def remove_email(x):\n",
    "    return (re.sub(r'[a-zA-z0-9._-]+@[a-zA-Z0-9._-]+\\.[a-zA-Z0-9_-]+',' ',x ))"
   ]
  },
  {
   "cell_type": "code",
   "execution_count": 70,
   "metadata": {
    "id": "jcaQ70dbbhNW"
   },
   "outputs": [],
   "source": [
    "# Remove urls\n",
    "def remove_url(x):\n",
    "    return (re.sub(r'(http|ftp|https)://([\\w_-]+(?:(?:\\.[\\w_-]+)+))([\\w.,@?^=%&:/~+#-]*[\\w@?^=%&/~+#-])?','',x))"
   ]
  },
  {
   "cell_type": "code",
   "execution_count": 71,
   "metadata": {
    "id": "BO6XrBH3bhNX"
   },
   "outputs": [],
   "source": [
    "# Remove accented characters\n",
    "def remove_accented_chars(x):\n",
    "    x=unicodedata.normalize('NFKD',x).encode('ascii','ignore').decode('ascii','ignore')\n",
    "    return x"
   ]
  },
  {
   "cell_type": "code",
   "execution_count": 72,
   "metadata": {
    "id": "YYgv-J_sbhNY"
   },
   "outputs": [],
   "source": [
    "def remove_non_english(x):\n",
    "    return(re.sub('[^a-zA-Z0-9,.~!$%^&#@*\\n ]','',x))"
   ]
  },
  {
   "cell_type": "code",
   "execution_count": 73,
   "metadata": {
    "id": "TNFduqVwbhNY"
   },
   "outputs": [],
   "source": [
    "def preprocessing(text_and_label):\n",
    "    text_and_label['hashtag_count'] = text_and_label['text'].apply(hashtag_count)\n",
    "    text_and_label['mentions_count'] = text_and_label['text'].apply(mention_count)\n",
    "    text_and_label['word_counts'] = text_and_label['text'].apply(lambda x : len(str(x).split()))\n",
    "    text_and_label['average_word_len'] = text_and_label['text'].apply(get_average_word_len)\n",
    "    text_and_label['text'] = text_and_label['text'].apply(cont_to_exp)\n",
    "    text_and_label['stopword_count'] = text_and_label['text'].apply(stop_word_count)\n",
    "    text_and_label['text'] = text_and_label['text'].apply(lambda x: ' '.join([t for t in x.split(' ') if t not in STOP_WORDS]))\n",
    "    text_and_label['email_counts'] = text_and_label['text'].apply(get_email_count)\n",
    "    text_and_label['text'] = text_and_label['text'].apply(remove_email)\n",
    "    text_and_label['text'] = text_and_label['text'].apply(remove_url)\n",
    "    text_and_label['text'] = text_and_label['text'].apply(lambda x : re.sub('RT','',x))\n",
    "    #text_and_label['text'] = text_and_label['text'].apply(lambda x: re.sub('[^a-z A-Z 0-9-]+','',x))\n",
    "    text_and_label['text'] = text_and_label['text'].apply(lambda x: \" \".join(x.split(' ')))\n",
    "    text_and_label['text'] = text_and_label['text'].apply(remove_accented_chars)\n",
    "    text = ' '.join(text_and_label['text'])\n",
    "    text = text.split(' ')\n",
    "    freq = pd.Series(text).value_counts()\n",
    "    x = ' '.join(text)\n",
    "    wc = WordCloud(width = 800, height = 400).generate(x)\n",
    "    plt.imshow(wc)\n",
    "    plt.axis('off')\n",
    "    plt.imshow(wc)\n",
    "    plt.axis('off')\n",
    "    return (text_and_label)"
   ]
  },
  {
   "cell_type": "code",
   "execution_count": 74,
   "metadata": {
    "id": "9r5ZRW9fbhNZ"
   },
   "outputs": [],
   "source": [
    "# if working  on google colab\n",
    "# df = pd.read_csv(\"/content/drive/MyDrive/Mini_Project/dataset/final_dataset_large.csv\")\n",
    "# else if working  on  jupyter notebook offline\n",
    "df = pd.read_csv(\"../../Dataset/final_dataset_large.csv\")"
   ]
  },
  {
   "cell_type": "code",
   "execution_count": 75,
   "metadata": {
    "colab": {
     "base_uri": "https://localhost:8080/",
     "height": 196
    },
    "id": "TBiPzmArbhNZ",
    "outputId": "5fd4b482-99b8-4447-9bfa-16f699816729"
   },
   "outputs": [
    {
     "data": {
      "text/html": [
       "<div>\n",
       "<style scoped>\n",
       "    .dataframe tbody tr th:only-of-type {\n",
       "        vertical-align: middle;\n",
       "    }\n",
       "\n",
       "    .dataframe tbody tr th {\n",
       "        vertical-align: top;\n",
       "    }\n",
       "\n",
       "    .dataframe thead th {\n",
       "        text-align: right;\n",
       "    }\n",
       "</style>\n",
       "<table border=\"1\" class=\"dataframe\">\n",
       "  <thead>\n",
       "    <tr style=\"text-align: right;\">\n",
       "      <th></th>\n",
       "      <th>Emotion</th>\n",
       "      <th>Emotion_ID</th>\n",
       "      <th>text</th>\n",
       "    </tr>\n",
       "  </thead>\n",
       "  <tbody>\n",
       "    <tr>\n",
       "      <th>0</th>\n",
       "      <td>anger</td>\n",
       "      <td>1</td>\n",
       "      <td>I'm really angry at Mom because she won't let ...</td>\n",
       "    </tr>\n",
       "    <tr>\n",
       "      <th>1</th>\n",
       "      <td>anger</td>\n",
       "      <td>1</td>\n",
       "      <td>Working   But it's Fridaaaayyyyy</td>\n",
       "    </tr>\n",
       "    <tr>\n",
       "      <th>2</th>\n",
       "      <td>anger</td>\n",
       "      <td>1</td>\n",
       "      <td>Packing  I don't like it..</td>\n",
       "    </tr>\n",
       "    <tr>\n",
       "      <th>3</th>\n",
       "      <td>anger</td>\n",
       "      <td>1</td>\n",
       "      <td>I tried to dye my hair and all i got was a blo...</td>\n",
       "    </tr>\n",
       "    <tr>\n",
       "      <th>4</th>\n",
       "      <td>anger</td>\n",
       "      <td>1</td>\n",
       "      <td>&amp;quot;locked up abroad&amp;quot; makes bein half b...</td>\n",
       "    </tr>\n",
       "  </tbody>\n",
       "</table>\n",
       "</div>"
      ],
      "text/plain": [
       "  Emotion  Emotion_ID                                               text\n",
       "0   anger           1  I'm really angry at Mom because she won't let ...\n",
       "1   anger           1                   Working   But it's Fridaaaayyyyy\n",
       "2   anger           1                         Packing  I don't like it..\n",
       "3   anger           1  I tried to dye my hair and all i got was a blo...\n",
       "4   anger           1  &quot;locked up abroad&quot; makes bein half b..."
      ]
     },
     "execution_count": 75,
     "metadata": {},
     "output_type": "execute_result"
    }
   ],
   "source": [
    "df.head()"
   ]
  },
  {
   "cell_type": "code",
   "execution_count": 76,
   "metadata": {
    "colab": {
     "base_uri": "https://localhost:8080/",
     "height": 286
    },
    "id": "RA3WgRsZbhNa",
    "outputId": "ec18ffbc-a8a7-4aab-9186-8af697aa6c41"
   },
   "outputs": [
    {
     "data": {
      "text/html": [
       "<div>\n",
       "<style scoped>\n",
       "    .dataframe tbody tr th:only-of-type {\n",
       "        vertical-align: middle;\n",
       "    }\n",
       "\n",
       "    .dataframe tbody tr th {\n",
       "        vertical-align: top;\n",
       "    }\n",
       "\n",
       "    .dataframe thead th {\n",
       "        text-align: right;\n",
       "    }\n",
       "</style>\n",
       "<table border=\"1\" class=\"dataframe\">\n",
       "  <thead>\n",
       "    <tr style=\"text-align: right;\">\n",
       "      <th></th>\n",
       "      <th>Emotion_ID</th>\n",
       "    </tr>\n",
       "  </thead>\n",
       "  <tbody>\n",
       "    <tr>\n",
       "      <th>count</th>\n",
       "      <td>178965.000000</td>\n",
       "    </tr>\n",
       "    <tr>\n",
       "      <th>mean</th>\n",
       "      <td>3.968787</td>\n",
       "    </tr>\n",
       "    <tr>\n",
       "      <th>std</th>\n",
       "      <td>1.956838</td>\n",
       "    </tr>\n",
       "    <tr>\n",
       "      <th>min</th>\n",
       "      <td>1.000000</td>\n",
       "    </tr>\n",
       "    <tr>\n",
       "      <th>25%</th>\n",
       "      <td>2.000000</td>\n",
       "    </tr>\n",
       "    <tr>\n",
       "      <th>50%</th>\n",
       "      <td>4.000000</td>\n",
       "    </tr>\n",
       "    <tr>\n",
       "      <th>75%</th>\n",
       "      <td>6.000000</td>\n",
       "    </tr>\n",
       "    <tr>\n",
       "      <th>max</th>\n",
       "      <td>7.000000</td>\n",
       "    </tr>\n",
       "  </tbody>\n",
       "</table>\n",
       "</div>"
      ],
      "text/plain": [
       "          Emotion_ID\n",
       "count  178965.000000\n",
       "mean        3.968787\n",
       "std         1.956838\n",
       "min         1.000000\n",
       "25%         2.000000\n",
       "50%         4.000000\n",
       "75%         6.000000\n",
       "max         7.000000"
      ]
     },
     "execution_count": 76,
     "metadata": {},
     "output_type": "execute_result"
    }
   ],
   "source": [
    "df.describe()"
   ]
  },
  {
   "cell_type": "code",
   "execution_count": 77,
   "metadata": {
    "colab": {
     "base_uri": "https://localhost:8080/"
    },
    "id": "GeWhsJ-vbhNa",
    "outputId": "4b9d0fd7-4df4-4356-d09b-5e0a1a984ec5"
   },
   "outputs": [
    {
     "name": "stdout",
     "output_type": "stream",
     "text": [
      "<class 'pandas.core.frame.DataFrame'>\n",
      "RangeIndex: 178965 entries, 0 to 178964\n",
      "Data columns (total 3 columns):\n",
      " #   Column      Non-Null Count   Dtype \n",
      "---  ------      --------------   ----- \n",
      " 0   Emotion     178965 non-null  object\n",
      " 1   Emotion_ID  178965 non-null  int64 \n",
      " 2   text        178965 non-null  object\n",
      "dtypes: int64(1), object(2)\n",
      "memory usage: 4.1+ MB\n"
     ]
    }
   ],
   "source": [
    "df.info()"
   ]
  },
  {
   "cell_type": "code",
   "execution_count": 78,
   "metadata": {
    "colab": {
     "base_uri": "https://localhost:8080/"
    },
    "id": "f8DZTGsBbhNa",
    "outputId": "38ec4905-afbe-45ea-cd9a-d9589411bee1"
   },
   "outputs": [
    {
     "data": {
      "text/plain": [
       "Happy       30885\n",
       "sad         27538\n",
       "anger       27119\n",
       "Fear        24999\n",
       "Neutral     24999\n",
       "Disgust     21916\n",
       "surprise    21509\n",
       "Name: Emotion, dtype: int64"
      ]
     },
     "execution_count": 78,
     "metadata": {},
     "output_type": "execute_result"
    }
   ],
   "source": [
    "df['Emotion'].value_counts()"
   ]
  },
  {
   "cell_type": "code",
   "execution_count": 79,
   "metadata": {
    "id": "Nh9JGSUpbhNb"
   },
   "outputs": [],
   "source": [
    "df = df[df['text'].duplicated()==False]"
   ]
  },
  {
   "cell_type": "code",
   "execution_count": 80,
   "metadata": {
    "id": "BDY-yp8ubhNb"
   },
   "outputs": [],
   "source": [
    "df = df.reset_index(drop = True)"
   ]
  },
  {
   "cell_type": "code",
   "execution_count": 81,
   "metadata": {
    "colab": {
     "base_uri": "https://localhost:8080/",
     "height": 319
    },
    "id": "B8eyVuaTbhNb",
    "outputId": "938984b6-90c3-46be-84d1-b613066fd1f9"
   },
   "outputs": [
    {
     "data": {
      "text/plain": [
       "(array([21251., 17997., 23883., 22249., 20162., 18003.,  6322.]),\n",
       " array([0, 1, 2, 3, 4, 5, 6, 7]),\n",
       " <BarContainer object of 7 artists>)"
      ]
     },
     "execution_count": 81,
     "metadata": {},
     "output_type": "execute_result"
    },
    {
     "data": {
      "image/png": "[encoded data removed]",
      "text/plain": [
       "<Figure size 432x288 with 1 Axes>"
      ]
     },
     "metadata": {
      "needs_background": "light"
     },
     "output_type": "display_data"
    }
   ],
   "source": [
    "plt.hist(df['Emotion'], bins = range(8), align='left')"
   ]
  },
  {
   "cell_type": "code",
   "execution_count": 82,
   "metadata": {
    "colab": {
     "base_uri": "https://localhost:8080/",
     "height": 404
    },
    "id": "FjHLaFf6bhNb",
    "outputId": "b5b61662-db50-44e1-e748-a927d5da4ad8"
   },
   "outputs": [
    {
     "data": {
      "text/html": [
       "<div>\n",
       "<style scoped>\n",
       "    .dataframe tbody tr th:only-of-type {\n",
       "        vertical-align: middle;\n",
       "    }\n",
       "\n",
       "    .dataframe tbody tr th {\n",
       "        vertical-align: top;\n",
       "    }\n",
       "\n",
       "    .dataframe thead th {\n",
       "        text-align: right;\n",
       "    }\n",
       "</style>\n",
       "<table border=\"1\" class=\"dataframe\">\n",
       "  <thead>\n",
       "    <tr style=\"text-align: right;\">\n",
       "      <th></th>\n",
       "      <th>Emotion</th>\n",
       "      <th>Emotion_ID</th>\n",
       "      <th>text</th>\n",
       "    </tr>\n",
       "  </thead>\n",
       "  <tbody>\n",
       "    <tr>\n",
       "      <th>0</th>\n",
       "      <td>anger</td>\n",
       "      <td>1</td>\n",
       "      <td>I'm really angry at Mom because she won't let ...</td>\n",
       "    </tr>\n",
       "    <tr>\n",
       "      <th>1</th>\n",
       "      <td>anger</td>\n",
       "      <td>1</td>\n",
       "      <td>Working   But it's Fridaaaayyyyy</td>\n",
       "    </tr>\n",
       "    <tr>\n",
       "      <th>2</th>\n",
       "      <td>anger</td>\n",
       "      <td>1</td>\n",
       "      <td>Packing  I don't like it..</td>\n",
       "    </tr>\n",
       "    <tr>\n",
       "      <th>3</th>\n",
       "      <td>anger</td>\n",
       "      <td>1</td>\n",
       "      <td>I tried to dye my hair and all i got was a blo...</td>\n",
       "    </tr>\n",
       "    <tr>\n",
       "      <th>4</th>\n",
       "      <td>anger</td>\n",
       "      <td>1</td>\n",
       "      <td>&amp;quot;locked up abroad&amp;quot; makes bein half b...</td>\n",
       "    </tr>\n",
       "    <tr>\n",
       "      <th>...</th>\n",
       "      <td>...</td>\n",
       "      <td>...</td>\n",
       "      <td>...</td>\n",
       "    </tr>\n",
       "    <tr>\n",
       "      <th>129862</th>\n",
       "      <td>surprise</td>\n",
       "      <td>7</td>\n",
       "      <td>If the birds are disturbed during the process ...</td>\n",
       "    </tr>\n",
       "    <tr>\n",
       "      <th>129863</th>\n",
       "      <td>surprise</td>\n",
       "      <td>7</td>\n",
       "      <td>It was Blackberry who bullied the stupefied Pi...</td>\n",
       "    </tr>\n",
       "    <tr>\n",
       "      <th>129864</th>\n",
       "      <td>surprise</td>\n",
       "      <td>7</td>\n",
       "      <td>He woke stupefied , flicking his tongue over h...</td>\n",
       "    </tr>\n",
       "    <tr>\n",
       "      <th>129865</th>\n",
       "      <td>surprise</td>\n",
       "      <td>7</td>\n",
       "      <td>Laura stared up at Ross in stupefied ama</td>\n",
       "    </tr>\n",
       "    <tr>\n",
       "      <th>129866</th>\n",
       "      <td>surprise</td>\n",
       "      <td>7</td>\n",
       "      <td>The pain had faded into the background and she...</td>\n",
       "    </tr>\n",
       "  </tbody>\n",
       "</table>\n",
       "<p>129867 rows × 3 columns</p>\n",
       "</div>"
      ],
      "text/plain": [
       "         Emotion  Emotion_ID  \\\n",
       "0          anger           1   \n",
       "1          anger           1   \n",
       "2          anger           1   \n",
       "3          anger           1   \n",
       "4          anger           1   \n",
       "...          ...         ...   \n",
       "129862  surprise           7   \n",
       "129863  surprise           7   \n",
       "129864  surprise           7   \n",
       "129865  surprise           7   \n",
       "129866  surprise           7   \n",
       "\n",
       "                                                     text  \n",
       "0       I'm really angry at Mom because she won't let ...  \n",
       "1                        Working   But it's Fridaaaayyyyy  \n",
       "2                              Packing  I don't like it..  \n",
       "3       I tried to dye my hair and all i got was a blo...  \n",
       "4       &quot;locked up abroad&quot; makes bein half b...  \n",
       "...                                                   ...  \n",
       "129862  If the birds are disturbed during the process ...  \n",
       "129863  It was Blackberry who bullied the stupefied Pi...  \n",
       "129864  He woke stupefied , flicking his tongue over h...  \n",
       "129865           Laura stared up at Ross in stupefied ama  \n",
       "129866  The pain had faded into the background and she...  \n",
       "\n",
       "[129867 rows x 3 columns]"
      ]
     },
     "execution_count": 82,
     "metadata": {},
     "output_type": "execute_result"
    }
   ],
   "source": [
    "df"
   ]
  },
  {
   "cell_type": "code",
   "execution_count": 83,
   "metadata": {
    "colab": {
     "base_uri": "https://localhost:8080/",
     "height": 585
    },
    "id": "anr6dcI6bhNc",
    "outputId": "c1e340eb-a461-4af7-941c-256733b2ff9b"
   },
   "outputs": [
    {
     "data": {
      "text/html": [
       "<div>\n",
       "<style scoped>\n",
       "    .dataframe tbody tr th:only-of-type {\n",
       "        vertical-align: middle;\n",
       "    }\n",
       "\n",
       "    .dataframe tbody tr th {\n",
       "        vertical-align: top;\n",
       "    }\n",
       "\n",
       "    .dataframe thead th {\n",
       "        text-align: right;\n",
       "    }\n",
       "</style>\n",
       "<table border=\"1\" class=\"dataframe\">\n",
       "  <thead>\n",
       "    <tr style=\"text-align: right;\">\n",
       "      <th></th>\n",
       "      <th>Emotion</th>\n",
       "      <th>Emotion_ID</th>\n",
       "      <th>text</th>\n",
       "      <th>hashtag_count</th>\n",
       "      <th>mentions_count</th>\n",
       "      <th>word_counts</th>\n",
       "      <th>average_word_len</th>\n",
       "      <th>stopword_count</th>\n",
       "      <th>email_counts</th>\n",
       "    </tr>\n",
       "  </thead>\n",
       "  <tbody>\n",
       "    <tr>\n",
       "      <th>0</th>\n",
       "      <td>anger</td>\n",
       "      <td>1</td>\n",
       "      <td>I'm angry Mom let party I clean room. It's fair!</td>\n",
       "      <td>0</td>\n",
       "      <td>0</td>\n",
       "      <td>22</td>\n",
       "      <td>3.681818</td>\n",
       "      <td>13</td>\n",
       "      <td>0</td>\n",
       "    </tr>\n",
       "    <tr>\n",
       "      <th>1</th>\n",
       "      <td>anger</td>\n",
       "      <td>1</td>\n",
       "      <td>Working   But / Fridaaaayyyyy</td>\n",
       "      <td>0</td>\n",
       "      <td>0</td>\n",
       "      <td>4</td>\n",
       "      <td>4.500000</td>\n",
       "      <td>4</td>\n",
       "      <td>0</td>\n",
       "    </tr>\n",
       "    <tr>\n",
       "      <th>2</th>\n",
       "      <td>anger</td>\n",
       "      <td>1</td>\n",
       "      <td>Packing  I like it..</td>\n",
       "      <td>0</td>\n",
       "      <td>0</td>\n",
       "      <td>5</td>\n",
       "      <td>3.500000</td>\n",
       "      <td>2</td>\n",
       "      <td>0</td>\n",
       "    </tr>\n",
       "    <tr>\n",
       "      <th>3</th>\n",
       "      <td>anger</td>\n",
       "      <td>1</td>\n",
       "      <td>I tried dye hair got blond chunk middle hair. ...</td>\n",
       "      <td>0</td>\n",
       "      <td>0</td>\n",
       "      <td>23</td>\n",
       "      <td>3.260870</td>\n",
       "      <td>13</td>\n",
       "      <td>0</td>\n",
       "    </tr>\n",
       "    <tr>\n",
       "      <th>4</th>\n",
       "      <td>anger</td>\n",
       "      <td>1</td>\n",
       "      <td>&amp;quot;locked abroad&amp;quot; makes bein half brow...</td>\n",
       "      <td>0</td>\n",
       "      <td>0</td>\n",
       "      <td>25</td>\n",
       "      <td>4.840000</td>\n",
       "      <td>6</td>\n",
       "      <td>0</td>\n",
       "    </tr>\n",
       "    <tr>\n",
       "      <th>...</th>\n",
       "      <td>...</td>\n",
       "      <td>...</td>\n",
       "      <td>...</td>\n",
       "      <td>...</td>\n",
       "      <td>...</td>\n",
       "      <td>...</td>\n",
       "      <td>...</td>\n",
       "      <td>...</td>\n",
       "      <td>...</td>\n",
       "    </tr>\n",
       "    <tr>\n",
       "      <th>129862</th>\n",
       "      <td>surprise</td>\n",
       "      <td>7</td>\n",
       "      <td>If birds disturbed process , large numbers stu...</td>\n",
       "      <td>0</td>\n",
       "      <td>0</td>\n",
       "      <td>33</td>\n",
       "      <td>4.941176</td>\n",
       "      <td>14</td>\n",
       "      <td>0</td>\n",
       "    </tr>\n",
       "    <tr>\n",
       "      <th>129863</th>\n",
       "      <td>surprise</td>\n",
       "      <td>7</td>\n",
       "      <td>It Blackberry bullied stupefied Pipkin feet fo...</td>\n",
       "      <td>0</td>\n",
       "      <td>0</td>\n",
       "      <td>22</td>\n",
       "      <td>4.136364</td>\n",
       "      <td>12</td>\n",
       "      <td>0</td>\n",
       "    </tr>\n",
       "    <tr>\n",
       "      <th>129864</th>\n",
       "      <td>surprise</td>\n",
       "      <td>7</td>\n",
       "      <td>He woke stupefied , flicking tongue parched li...</td>\n",
       "      <td>0</td>\n",
       "      <td>0</td>\n",
       "      <td>14</td>\n",
       "      <td>4.071429</td>\n",
       "      <td>4</td>\n",
       "      <td>0</td>\n",
       "    </tr>\n",
       "    <tr>\n",
       "      <th>129865</th>\n",
       "      <td>surprise</td>\n",
       "      <td>7</td>\n",
       "      <td>Laura stared Ross stupefied ama</td>\n",
       "      <td>0</td>\n",
       "      <td>0</td>\n",
       "      <td>8</td>\n",
       "      <td>4.125000</td>\n",
       "      <td>3</td>\n",
       "      <td>0</td>\n",
       "    </tr>\n",
       "    <tr>\n",
       "      <th>129866</th>\n",
       "      <td>surprise</td>\n",
       "      <td>7</td>\n",
       "      <td>The pain faded background starting feel stupef...</td>\n",
       "      <td>0</td>\n",
       "      <td>0</td>\n",
       "      <td>24</td>\n",
       "      <td>4.208333</td>\n",
       "      <td>10</td>\n",
       "      <td>0</td>\n",
       "    </tr>\n",
       "  </tbody>\n",
       "</table>\n",
       "<p>129867 rows × 9 columns</p>\n",
       "</div>"
      ],
      "text/plain": [
       "         Emotion  Emotion_ID  \\\n",
       "0          anger           1   \n",
       "1          anger           1   \n",
       "2          anger           1   \n",
       "3          anger           1   \n",
       "4          anger           1   \n",
       "...          ...         ...   \n",
       "129862  surprise           7   \n",
       "129863  surprise           7   \n",
       "129864  surprise           7   \n",
       "129865  surprise           7   \n",
       "129866  surprise           7   \n",
       "\n",
       "                                                     text  hashtag_count  \\\n",
       "0        I'm angry Mom let party I clean room. It's fair!              0   \n",
       "1                           Working   But / Fridaaaayyyyy              0   \n",
       "2                                    Packing  I like it..              0   \n",
       "3       I tried dye hair got blond chunk middle hair. ...              0   \n",
       "4       &quot;locked abroad&quot; makes bein half brow...              0   \n",
       "...                                                   ...            ...   \n",
       "129862  If birds disturbed process , large numbers stu...              0   \n",
       "129863  It Blackberry bullied stupefied Pipkin feet fo...              0   \n",
       "129864  He woke stupefied , flicking tongue parched li...              0   \n",
       "129865                    Laura stared Ross stupefied ama              0   \n",
       "129866  The pain faded background starting feel stupef...              0   \n",
       "\n",
       "        mentions_count  word_counts  average_word_len  stopword_count  \\\n",
       "0                    0           22          3.681818              13   \n",
       "1                    0            4          4.500000               4   \n",
       "2                    0            5          3.500000               2   \n",
       "3                    0           23          3.260870              13   \n",
       "4                    0           25          4.840000               6   \n",
       "...                ...          ...               ...             ...   \n",
       "129862               0           33          4.941176              14   \n",
       "129863               0           22          4.136364              12   \n",
       "129864               0           14          4.071429               4   \n",
       "129865               0            8          4.125000               3   \n",
       "129866               0           24          4.208333              10   \n",
       "\n",
       "        email_counts  \n",
       "0                  0  \n",
       "1                  0  \n",
       "2                  0  \n",
       "3                  0  \n",
       "4                  0  \n",
       "...              ...  \n",
       "129862             0  \n",
       "129863             0  \n",
       "129864             0  \n",
       "129865             0  \n",
       "129866             0  \n",
       "\n",
       "[129867 rows x 9 columns]"
      ]
     },
     "execution_count": 83,
     "metadata": {},
     "output_type": "execute_result"
    },
    {
     "data": {
      "image/png": "[encoded data removed]",
      "text/plain": [
       "<Figure size 432x288 with 1 Axes>"
      ]
     },
     "metadata": {
      "needs_background": "light"
     },
     "output_type": "display_data"
    }
   ],
   "source": [
    "preprocessing(df)   "
   ]
  },
  {
   "cell_type": "code",
   "execution_count": 84,
   "metadata": {
    "id": "NPRHugaNbhNc"
   },
   "outputs": [],
   "source": [
    "df1 = df[df['Emotion_ID'] == 1].sample(10000)\n",
    "df2 = df[df['Emotion_ID'] == 2].sample(8000)\n",
    "df3 = df[df['Emotion_ID'] == 3].sample(10000)\n",
    "df4 = df[df['Emotion_ID'] == 4].sample(10000)\n",
    "df5 = df[df['Emotion_ID'] == 5].sample(9000)\n",
    "df6 = df[df['Emotion_ID'] == 6].sample(9000)\n",
    "df7 = df[df['Emotion_ID'] == 7].sample(4000)"
   ]
  },
  {
   "cell_type": "code",
   "execution_count": 85,
   "metadata": {
    "id": "R7HTQ_V3bhNd"
   },
   "outputs": [],
   "source": [
    "df_train = df1.append(df2)\n",
    "df_train = df_train.append(df3)\n",
    "df_train = df_train.append(df4)\n",
    "df_train = df_train.append(df5)\n",
    "df_train = df_train.append(df6)\n",
    "df_train = df_train.append(df7)"
   ]
  },
  {
   "cell_type": "code",
   "execution_count": 86,
   "metadata": {
    "colab": {
     "base_uri": "https://localhost:8080/",
     "height": 404
    },
    "id": "BeuSFp64bhNd",
    "outputId": "9e86071a-a068-4758-f9ee-e5d2f43c46fa"
   },
   "outputs": [
    {
     "data": {
      "text/html": [
       "<div>\n",
       "<style scoped>\n",
       "    .dataframe tbody tr th:only-of-type {\n",
       "        vertical-align: middle;\n",
       "    }\n",
       "\n",
       "    .dataframe tbody tr th {\n",
       "        vertical-align: top;\n",
       "    }\n",
       "\n",
       "    .dataframe thead th {\n",
       "        text-align: right;\n",
       "    }\n",
       "</style>\n",
       "<table border=\"1\" class=\"dataframe\">\n",
       "  <thead>\n",
       "    <tr style=\"text-align: right;\">\n",
       "      <th></th>\n",
       "      <th>Emotion</th>\n",
       "      <th>Emotion_ID</th>\n",
       "      <th>text</th>\n",
       "      <th>hashtag_count</th>\n",
       "      <th>mentions_count</th>\n",
       "      <th>word_counts</th>\n",
       "      <th>average_word_len</th>\n",
       "      <th>stopword_count</th>\n",
       "      <th>email_counts</th>\n",
       "    </tr>\n",
       "  </thead>\n",
       "  <tbody>\n",
       "    <tr>\n",
       "      <th>19748</th>\n",
       "      <td>anger</td>\n",
       "      <td>1</td>\n",
       "      <td>hate tell george floyd</td>\n",
       "      <td>0</td>\n",
       "      <td>0</td>\n",
       "      <td>12</td>\n",
       "      <td>3.583333</td>\n",
       "      <td>8</td>\n",
       "      <td>0</td>\n",
       "    </tr>\n",
       "    <tr>\n",
       "      <th>4355</th>\n",
       "      <td>anger</td>\n",
       "      <td>1</td>\n",
       "      <td>WHAT THE HELL IS THAT?!?!?!</td>\n",
       "      <td>0</td>\n",
       "      <td>0</td>\n",
       "      <td>5</td>\n",
       "      <td>4.600000</td>\n",
       "      <td>0</td>\n",
       "      <td>0</td>\n",
       "    </tr>\n",
       "    <tr>\n",
       "      <th>13311</th>\n",
       "      <td>anger</td>\n",
       "      <td>1</td>\n",
       "      <td>angry bby angry what. study</td>\n",
       "      <td>0</td>\n",
       "      <td>0</td>\n",
       "      <td>14</td>\n",
       "      <td>3.642857</td>\n",
       "      <td>9</td>\n",
       "      <td>0</td>\n",
       "    </tr>\n",
       "    <tr>\n",
       "      <th>2783</th>\n",
       "      <td>anger</td>\n",
       "      <td>1</td>\n",
       "      <td>As polluted body copious amounts sugar, I some...</td>\n",
       "      <td>0</td>\n",
       "      <td>0</td>\n",
       "      <td>26</td>\n",
       "      <td>4.692308</td>\n",
       "      <td>12</td>\n",
       "      <td>0</td>\n",
       "    </tr>\n",
       "    <tr>\n",
       "      <th>16792</th>\n",
       "      <td>anger</td>\n",
       "      <td>1</td>\n",
       "      <td>chandler bing m ryan find annoying</td>\n",
       "      <td>0</td>\n",
       "      <td>0</td>\n",
       "      <td>8</td>\n",
       "      <td>4.125000</td>\n",
       "      <td>2</td>\n",
       "      <td>0</td>\n",
       "    </tr>\n",
       "    <tr>\n",
       "      <th>...</th>\n",
       "      <td>...</td>\n",
       "      <td>...</td>\n",
       "      <td>...</td>\n",
       "      <td>...</td>\n",
       "      <td>...</td>\n",
       "      <td>...</td>\n",
       "      <td>...</td>\n",
       "      <td>...</td>\n",
       "      <td>...</td>\n",
       "    </tr>\n",
       "    <tr>\n",
       "      <th>125342</th>\n",
       "      <td>surprise</td>\n",
       "      <td>7</td>\n",
       "      <td>Fuck, I cut finger!</td>\n",
       "      <td>0</td>\n",
       "      <td>0</td>\n",
       "      <td>5</td>\n",
       "      <td>3.600000</td>\n",
       "      <td>1</td>\n",
       "      <td>0</td>\n",
       "    </tr>\n",
       "    <tr>\n",
       "      <th>124661</th>\n",
       "      <td>surprise</td>\n",
       "      <td>7</td>\n",
       "      <td>@sydthekid sad?!</td>\n",
       "      <td>0</td>\n",
       "      <td>1</td>\n",
       "      <td>5</td>\n",
       "      <td>4.800000</td>\n",
       "      <td>3</td>\n",
       "      <td>0</td>\n",
       "    </tr>\n",
       "    <tr>\n",
       "      <th>125516</th>\n",
       "      <td>surprise</td>\n",
       "      <td>7</td>\n",
       "      <td>omg pain  ouchies</td>\n",
       "      <td>0</td>\n",
       "      <td>0</td>\n",
       "      <td>8</td>\n",
       "      <td>2.777778</td>\n",
       "      <td>5</td>\n",
       "      <td>0</td>\n",
       "    </tr>\n",
       "    <tr>\n",
       "      <th>127796</th>\n",
       "      <td>surprise</td>\n",
       "      <td>7</td>\n",
       "      <td>All I saw [NAME]</td>\n",
       "      <td>0</td>\n",
       "      <td>0</td>\n",
       "      <td>5</td>\n",
       "      <td>3.200000</td>\n",
       "      <td>1</td>\n",
       "      <td>0</td>\n",
       "    </tr>\n",
       "    <tr>\n",
       "      <th>125838</th>\n",
       "      <td>surprise</td>\n",
       "      <td>7</td>\n",
       "      <td>@kadambariyer wow, I Mr.B obsession you!!</td>\n",
       "      <td>0</td>\n",
       "      <td>1</td>\n",
       "      <td>9</td>\n",
       "      <td>4.666667</td>\n",
       "      <td>3</td>\n",
       "      <td>0</td>\n",
       "    </tr>\n",
       "  </tbody>\n",
       "</table>\n",
       "<p>60000 rows × 9 columns</p>\n",
       "</div>"
      ],
      "text/plain": [
       "         Emotion  Emotion_ID  \\\n",
       "19748      anger           1   \n",
       "4355       anger           1   \n",
       "13311      anger           1   \n",
       "2783       anger           1   \n",
       "16792      anger           1   \n",
       "...          ...         ...   \n",
       "125342  surprise           7   \n",
       "124661  surprise           7   \n",
       "125516  surprise           7   \n",
       "127796  surprise           7   \n",
       "125838  surprise           7   \n",
       "\n",
       "                                                     text  hashtag_count  \\\n",
       "19748                              hate tell george floyd              0   \n",
       "4355                          WHAT THE HELL IS THAT?!?!?!              0   \n",
       "13311                         angry bby angry what. study              0   \n",
       "2783    As polluted body copious amounts sugar, I some...              0   \n",
       "16792                  chandler bing m ryan find annoying              0   \n",
       "...                                                   ...            ...   \n",
       "125342                                Fuck, I cut finger!              0   \n",
       "124661                                   @sydthekid sad?!              0   \n",
       "125516                                  omg pain  ouchies              0   \n",
       "127796                                   All I saw [NAME]              0   \n",
       "125838          @kadambariyer wow, I Mr.B obsession you!!              0   \n",
       "\n",
       "        mentions_count  word_counts  average_word_len  stopword_count  \\\n",
       "19748                0           12          3.583333               8   \n",
       "4355                 0            5          4.600000               0   \n",
       "13311                0           14          3.642857               9   \n",
       "2783                 0           26          4.692308              12   \n",
       "16792                0            8          4.125000               2   \n",
       "...                ...          ...               ...             ...   \n",
       "125342               0            5          3.600000               1   \n",
       "124661               1            5          4.800000               3   \n",
       "125516               0            8          2.777778               5   \n",
       "127796               0            5          3.200000               1   \n",
       "125838               1            9          4.666667               3   \n",
       "\n",
       "        email_counts  \n",
       "19748              0  \n",
       "4355               0  \n",
       "13311              0  \n",
       "2783               0  \n",
       "16792              0  \n",
       "...              ...  \n",
       "125342             0  \n",
       "124661             0  \n",
       "125516             0  \n",
       "127796             0  \n",
       "125838             0  \n",
       "\n",
       "[60000 rows x 9 columns]"
      ]
     },
     "execution_count": 86,
     "metadata": {},
     "output_type": "execute_result"
    }
   ],
   "source": [
    "df_train"
   ]
  },
  {
   "cell_type": "code",
   "execution_count": 87,
   "metadata": {
    "id": "J9G_mZ5HbhNd"
   },
   "outputs": [],
   "source": [
    "df_y = df_train['Emotion_ID']"
   ]
  },
  {
   "cell_type": "code",
   "execution_count": 88,
   "metadata": {
    "colab": {
     "base_uri": "https://localhost:8080/"
    },
    "id": "9RXYqHRqbhNd",
    "outputId": "99d79f6c-6338-401d-aecf-3bbbd520ba0b"
   },
   "outputs": [
    {
     "data": {
      "text/plain": [
       "(60000, 5000)"
      ]
     },
     "execution_count": 88,
     "metadata": {},
     "output_type": "execute_result"
    }
   ],
   "source": [
    "from sklearn.feature_extraction.text import CountVectorizer\n",
    "cv = CountVectorizer(max_features=5000)\n",
    "text_counts = cv.fit_transform(df_train['text'])\n",
    "text_counts.toarray().shape"
   ]
  },
  {
   "cell_type": "code",
   "execution_count": 89,
   "metadata": {
    "id": "EzRrBn_BbhNe"
   },
   "outputs": [],
   "source": [
    "df_bow = pd.DataFrame(text_counts.toarray(), columns = cv.get_feature_names())  # bag of words"
   ]
  },
  {
   "cell_type": "code",
   "execution_count": 90,
   "metadata": {
    "id": "sqFR7dRibhNe"
   },
   "outputs": [],
   "source": [
    "#df_bow"
   ]
  },
  {
   "cell_type": "code",
   "execution_count": 91,
   "metadata": {
    "id": "Gjsx0nx4bhNe"
   },
   "outputs": [],
   "source": [
    "from sklearn.linear_model import SGDClassifier , LogisticRegression\n",
    "from sklearn.linear_model import LogisticRegressionCV\n",
    "from sklearn.svm import LinearSVC\n",
    "from sklearn.ensemble import RandomForestClassifier\n",
    "\n",
    "from sklearn.feature_extraction.text import TfidfTransformer\n",
    "from sklearn.model_selection import train_test_split\n",
    "from sklearn.metrics import confusion_matrix,accuracy_score\n",
    "from sklearn.preprocessing import MinMaxScaler\n",
    "from sklearn.metrics import classification_report\n",
    "from sklearn.pipeline import Pipeline"
   ]
  },
  {
   "cell_type": "code",
   "execution_count": 92,
   "metadata": {
    "id": "_sTZqUp1rafL"
   },
   "outputs": [],
   "source": [
    "X, y = (df_bow, df_y)"
   ]
  },
  {
   "cell_type": "code",
   "execution_count": 93,
   "metadata": {
    "colab": {
     "base_uri": "https://localhost:8080/"
    },
    "id": "eYHXRM-rbhNf",
    "outputId": "a7efc298-7a81-429b-964a-f086d39b4e24"
   },
   "outputs": [
    {
     "name": "stdout",
     "output_type": "stream",
     "text": [
      "SVM ----> 0.6686666666666666\n",
      "Wall time: 1min 19s\n"
     ]
    }
   ],
   "source": [
    "%%time\n",
    "X, y = (df_bow, df_y)\n",
    "scaler=MinMaxScaler(feature_range=(0,1))\n",
    "X=scaler.fit_transform(X)\n",
    "X_train,X_test,y_train,y_test=train_test_split(X,y,test_size=0.2,random_state=2)\n",
    "svm=LinearSVC(random_state=2,max_iter=2000)\n",
    "svm.fit(X_train,y_train)\n",
    "y_pred=svm.predict(X_test)\n",
    "acc=accuracy_score(y_test,y_pred)\n",
    "print(\"SVM ---->\",acc)"
   ]
  },
  {
   "cell_type": "code",
   "execution_count": 94,
   "metadata": {
    "colab": {
     "base_uri": "https://localhost:8080/"
    },
    "id": "dmGrxFrRbhNf",
    "outputId": "48ba0b1e-c71e-416a-b07d-34afd1ef1e4b"
   },
   "outputs": [
    {
     "data": {
      "text/plain": [
       "array([[1333,  109,   64,   64,  145,  106,   38],\n",
       "       [ 136, 1141,  118,   27,   55,   33,   45],\n",
       "       [ 103,  114, 1644,   25,   42,   60,   36],\n",
       "       [  82,   32,   44, 1422,  246,  126,  124],\n",
       "       [ 229,  118,   92,  290, 1130,  275,  227],\n",
       "       [ 106,   48,   59,   87,  139, 1105,   47],\n",
       "       [  39,   34,   24,   54,   84,   50,  249]], dtype=int64)"
      ]
     },
     "execution_count": 94,
     "metadata": {},
     "output_type": "execute_result"
    }
   ],
   "source": [
    "confusion_matrix(y_pred, y_test)"
   ]
  },
  {
   "cell_type": "code",
   "execution_count": 95,
   "metadata": {
    "colab": {
     "base_uri": "https://localhost:8080/"
    },
    "id": "X_GnBkd-bhNf",
    "outputId": "ca927c9e-a933-4127-f796-184f1216b880",
    "scrolled": true
   },
   "outputs": [
    {
     "name": "stdout",
     "output_type": "stream",
     "text": [
      "              precision    recall  f1-score   support\n",
      "\n",
      "           1       0.66      0.72      0.69      1859\n",
      "           2       0.71      0.73      0.72      1555\n",
      "           3       0.80      0.81      0.81      2024\n",
      "           4       0.72      0.68      0.70      2076\n",
      "           5       0.61      0.48      0.54      2361\n",
      "           6       0.63      0.69      0.66      1591\n",
      "           7       0.33      0.47      0.38       534\n",
      "\n",
      "    accuracy                           0.67     12000\n",
      "   macro avg       0.64      0.66      0.64     12000\n",
      "weighted avg       0.67      0.67      0.67     12000\n",
      "\n"
     ]
    }
   ],
   "source": [
    "print(classification_report(y_pred,y_test))"
   ]
  },
  {
   "cell_type": "code",
   "execution_count": 96,
   "metadata": {
    "colab": {
     "base_uri": "https://localhost:8080/",
     "height": 566
    },
    "id": "cEDDuOoWefd1",
    "outputId": "2facb0d9-feaa-48f4-e214-6290d04d5ba9"
   },
   "outputs": [
    {
     "name": "stdout",
     "output_type": "stream",
     "text": [
      "Trend :  Al Franken\n",
      "Trend :  Yashar Ali\n",
      "                                                 text\n",
      "0   @rohitrajoffici5 @CricCrazyJohns Ipl nibbas li...\n",
      "1   @Mahi_1732001 @CricCrazyJohns @adithya_electro...\n",
      "2   he carried last ipl kkr with his batting\\nhe h...\n",
      "3   @niran86000397 @CricCrazyJohns @adithya_electr...\n",
      "4   Breaking news \\n2022 ipl new team is going to ...\n",
      "5   @jojobangtanvv @filterkims @EgosShadow7 One of...\n",
      "6   Looks like IPL will continue with no overseas ...\n",
      "7   @rajasthanroyals @DavidMillerSA12 Happy Birthd...\n",
      "8                         I miss the IPL so fckn much\n",
      "9   @SingbalSanket Are the fringe players going at...\n",
      "10  Yashar Ali: The Curious Rise of a Twitter Powe...\n",
      "11      Yashar Ali and Virgil Texas in one day oh boy\n",
      "12  celebrity deaths come in threes - art decider,...\n",
      "13  Remember how everyone was curious how Kato Kae...\n",
      "14  I'm sure this is being shared left and right b...\n",
      "15    yashar ali’s profile photo is the greatest scam\n",
      "16  skimming this glowing profile of yashar ali an...\n",
      "17  As a fat man I think it’s despicable that Yash...\n",
      "18  In the end, Yashar Ali was the friends we made...\n",
      "19  The Yashar Ali article took me on a wild ride....\n"
     ]
    },
    {
     "data": {
      "image/png": "[encoded data removed]",
      "text/plain": [
       "<Figure size 432x288 with 1 Axes>"
      ]
     },
     "metadata": {
      "needs_background": "light"
     },
     "output_type": "display_data"
    }
   ],
   "source": [
    "q = world_trends[0]['trends'][random.randint(0,len(world_trends[0]['trends']))]['name']\n",
    "print(\"Trend : \",q)\n",
    "tweets = twitter_api.search.tweets(q='IPL' + '-filter:retweets', lang='en' ,count=10, tweet_mode='extended')\n",
    "query_tweets=[]\n",
    "for i in range(len(tweets['statuses'])):\n",
    "    query_tweets.append(tweets['statuses'][i]['full_text'])\n",
    "\n",
    "# collecting tweets from another trends\n",
    "q = world_trends[0]['trends'][random.randint(0,len(world_trends[0]['trends']))]['name']\n",
    "print(\"Trend : \",q)\n",
    "tweets = twitter_api.search.tweets(q=q + '-filter:retweets', lang='en' ,count=10, tweet_mode='extended')\n",
    "for i in range(len(tweets['statuses'])):\n",
    "    query_tweets.append(tweets['statuses'][i]['full_text'])\n",
    "\n",
    "\n",
    "query_df = pd.DataFrame(query_tweets)\n",
    "query_df.columns = ['text']\n",
    "print(query_df)\n",
    "new_df = query_df.copy(deep=True)\n",
    "tweets_df = preprocessing(new_df)"
   ]
  },
  {
   "cell_type": "code",
   "execution_count": 97,
   "metadata": {
    "id": "rki7virtZLwU"
   },
   "outputs": [],
   "source": [
    "text_counts = cv.transform(tweets_df['text'])\n",
    "text_counts.toarray().shape\n",
    "test = pd.DataFrame(text_counts.toarray(), columns = cv.get_feature_names())"
   ]
  },
  {
   "cell_type": "code",
   "execution_count": 98,
   "metadata": {
    "id": "XEpd3lmvZLwU"
   },
   "outputs": [],
   "source": [
    "result = svm.predict(test)"
   ]
  },
  {
   "cell_type": "code",
   "execution_count": 99,
   "metadata": {
    "colab": {
     "base_uri": "https://localhost:8080/"
    },
    "id": "kER_v6SFZLwV",
    "outputId": "775a3727-3853-429b-a625-68322b62ca31"
   },
   "outputs": [
    {
     "data": {
      "text/plain": [
       "array([3, 5, 6, 5, 4, 5, 5, 4, 6, 5, 7, 7, 4, 7, 3, 6, 7, 2, 5, 4],\n",
       "      dtype=int64)"
      ]
     },
     "execution_count": 99,
     "metadata": {},
     "output_type": "execute_result"
    }
   ],
   "source": [
    "result"
   ]
  },
  {
   "cell_type": "code",
   "execution_count": 100,
   "metadata": {
    "id": "KgVedp47oEGp"
   },
   "outputs": [],
   "source": [
    "emotion = [None] * len(new_df)\n",
    "for i in range(len(result)):\n",
    "  if (result[i] == 1):\n",
    "    emotion[i] = 'Anger'\n",
    "  elif (result[i] == 2):\n",
    "    emotion[i] = 'Disgust'\n",
    "  elif (result[i] == 3):\n",
    "    emotion[i] = 'Fear'\n",
    "  elif (result[i] == 4):\n",
    "    emotion[i] = 'Happy'\n",
    "  elif (result[i] == 5):\n",
    "    emotion[i] = 'Neutral'\n",
    "  elif (result[i] == 6):\n",
    "    emotion[i] = 'Sad'\n",
    "  elif (result[i] == 7):\n",
    "    emotion[i] = 'Surprise'"
   ]
  },
  {
   "cell_type": "code",
   "execution_count": 101,
   "metadata": {
    "id": "1ImiPv_unrg_"
   },
   "outputs": [],
   "source": [
    "query_df['Emotion'] = emotion\n",
    "query_df['Emotion_ID'] = result"
   ]
  },
  {
   "cell_type": "code",
   "execution_count": 102,
   "metadata": {
    "colab": {
     "base_uri": "https://localhost:8080/"
    },
    "id": "ZLX9oKLvZLwV",
    "outputId": "a9ced5a0-2b9a-4870-81a6-3b2a8bc67589"
   },
   "outputs": [
    {
     "name": "stdout",
     "output_type": "stream",
     "text": [
      "@rohitrajoffici5 @CricCrazyJohns Ipl nibbas like you just watched few ipl matches and bark on twitter 😂 Morgan has hundreds in India Australia West indies New Zealand etc and audacity of you too question his captaincy being virat fan 😂 --------------   fear\n",
      "****************************************************************************************************************************\n",
      "\n",
      "@Mahi_1732001 @CricCrazyJohns @adithya_electro That's super over maiden.\n",
      "He has bowled a maiden in The 16th or 17th over of an IPL match --------------   neutral\n",
      "****************************************************************************************************************************\n",
      "\n",
      "he carried last ipl kkr with his batting\n",
      "he has t20i 50 in india and mom too \n",
      "he has man of the series in sa and his highest t20i score is 91 in nz\n",
      "in that case kohli doesnt even have t20i 50 in sa nz he is pure asia bully https://t.co/NqRBeD0Itp --------------   sad\n",
      "****************************************************************************************************************************\n",
      "\n",
      "@niran86000397 @CricCrazyJohns @adithya_electro that maiden over he bowled was in cpl, not ipl. --------------   neutral\n",
      "****************************************************************************************************************************\n",
      "\n",
      "Breaking news \n",
      "2022 ipl new team is going to arrive \n",
      "From andhra..\n",
      "Chiranjeevi (c) pawan (vc) nagababu  (meñtor) ramcharan (batsmen) alluarjun (all rounder) STD (keeper) allushirish (bowler) varuntej (bowler) vaishnavtej (bowler) niharika (mentor) allu (Sponcer) @pawankalyan --------------   happy\n",
      "****************************************************************************************************************************\n",
      "\n",
      "@jojobangtanvv @filterkims @EgosShadow7 One of the many reasons. We have IPL matches here which is widely watched by a huge portion of population. And as Samsung was one of the sponsors, the SamsungxBTS commerical was played a lot of times between the matches. It had Dynamite as the bgm which attracted a lot of locals --------------   neutral\n",
      "****************************************************************************************************************************\n",
      "\n",
      "Looks like IPL will continue with no overseas player. 🤣 --------------   neutral\n",
      "****************************************************************************************************************************\n",
      "\n",
      "@rajasthanroyals @DavidMillerSA12 Happy Birthday David Miller, Expecting big things in remainder of ipl. 🎉🥳 --------------   happy\n",
      "****************************************************************************************************************************\n",
      "\n",
      "I miss the IPL so fckn much --------------   sad\n",
      "****************************************************************************************************************************\n",
      "\n",
      "@SingbalSanket Are the fringe players going at all?Riley and Jhye are reportedly backing out. They should be grabbing any overseas tour with both hands you'd think after their below average show in the IPL.Stoinis has been totally out of form for years. He's backed out also.They are the future. --------------   neutral\n",
      "****************************************************************************************************************************\n",
      "\n",
      "Yashar Ali: The Curious Rise of a Twitter Power Broker\n",
      "Once you peel away the cute elephant pics many of us realized that yashar was problematic and lol of course he’s “friends” with Maggie haberman  https://t.co/lHBdTwmhBN --------------   surprise\n",
      "****************************************************************************************************************************\n",
      "\n",
      "Yashar Ali and Virgil Texas in one day oh boy --------------   surprise\n",
      "****************************************************************************************************************************\n",
      "\n",
      "celebrity deaths come in threes - art decider, yashar ali, and virgil texas... --------------   happy\n",
      "****************************************************************************************************************************\n",
      "\n",
      "Remember how everyone was curious how Kato Kaelin ended up in OJ's guest house?\n",
      "\n",
      "https://t.co/AY9J32jxsM --------------   surprise\n",
      "****************************************************************************************************************************\n",
      "\n",
      "I'm sure this is being shared left and right but it strikes me how invariably weird and crooked a lot of these folks turn out to be in the end https://t.co/vDgXM1z5Yt via @LAMag --------------   fear\n",
      "****************************************************************************************************************************\n",
      "\n",
      "yashar ali’s profile photo is the greatest scam --------------   sad\n",
      "****************************************************************************************************************************\n",
      "\n",
      "skimming this glowing profile of yashar ali and I can’t seem to find any mention of when he set up a fake gofundme in order to trick a union into revealing all its members personal info to him while they were mid-strike --------------   surprise\n",
      "****************************************************************************************************************************\n",
      "\n",
      "As a fat man I think it’s despicable that Yashar Ali pretends to be thin --------------   disgust\n",
      "****************************************************************************************************************************\n",
      "\n",
      "In the end, Yashar Ali was the friends we made along the way --------------   neutral\n",
      "****************************************************************************************************************************\n",
      "\n",
      "The Yashar Ali article took me on a wild ride. He literally turned \"eating the rich\" into a career by befriending them, living off them, and then getting them fired lmao https://t.co/bLctqM6PdN --------------   happy\n",
      "****************************************************************************************************************************\n",
      "\n"
     ]
    }
   ],
   "source": [
    "for i in range(len(result)):\n",
    "    if result[i] == 1:\n",
    "        print(query_df['text'][i], '--------------   anger')\n",
    "    elif result[i] == 2:\n",
    "        print(query_df['text'][i],'--------------   disgust')\n",
    "    elif result[i] == 3:\n",
    "        print(query_df['text'][i],'--------------   fear')\n",
    "    elif result[i] == 4:\n",
    "        print(query_df['text'][i],'--------------   happy')\n",
    "    elif result[i] == 5:\n",
    "        print(query_df['text'][i],'--------------   neutral')\n",
    "    elif result[i] == 6:\n",
    "        print(query_df['text'][i],'--------------   sad')\n",
    "    elif result[i] == 7:\n",
    "        print(query_df['text'][i],'--------------   surprise')\n",
    "    print('****************************************************************************************************************************\\n')"
   ]
  },
  {
   "cell_type": "code",
   "execution_count": 103,
   "metadata": {
    "id": "nYdfkMwafOf8"
   },
   "outputs": [],
   "source": [
    "# if  working  google  colab\n",
    "# query_df.to_csv('/content/drive/MyDrive/Mini_Project/Work/query_output.csv')\n",
    "# else  if working  on  jupyter  notebook  offline\n",
    "query_df.to_csv('./query_output.csv')"
   ]
  },
  {
   "cell_type": "code",
   "execution_count": 104,
   "metadata": {
    "colab": {
     "base_uri": "https://localhost:8080/",
     "height": 315
    },
    "id": "b8J1OVuRo9y_",
    "outputId": "5473648f-72bc-4d15-b21f-c7cc22b710c4"
   },
   "outputs": [
    {
     "data": {
      "text/plain": [
       "(array([2., 6., 3., 4., 4., 1.]),\n",
       " array([0, 1, 2, 3, 4, 5, 6]),\n",
       " <BarContainer object of 6 artists>)"
      ]
     },
     "execution_count": 104,
     "metadata": {},
     "output_type": "execute_result"
    },
    {
     "data": {
      "image/png": "[encoded data removed]",
      "text/plain": [
       "<Figure size 432x288 with 1 Axes>"
      ]
     },
     "metadata": {
      "needs_background": "light"
     },
     "output_type": "display_data"
    }
   ],
   "source": [
    "plt.hist(query_df['Emotion'], bins=range(len(pd.unique(query_df['Emotion']))+1), align=\"left\")\n",
    "#plt.hist(query_df['Emotion'], bins=range(6), align=\"left\")"
   ]
  },
  {
   "cell_type": "markdown",
   "metadata": {
    "id": "0sE_kuo79D5U"
   },
   "source": []
  }
 ],
 "metadata": {
  "colab": {
   "collapsed_sections": [],
   "name": "Emotion Analysis final  v1.ipynb",
   "provenance": []
  },
  "kernelspec": {
   "display_name": "Python 3",
   "language": "python",
   "name": "python3"
  },
  "language_info": {
   "codemirror_mode": {
    "name": "ipython",
    "version": 3
   },
   "file_extension": ".py",
   "mimetype": "text/x-python",
   "name": "python",
   "nbconvert_exporter": "python",
   "pygments_lexer": "ipython3",
   "version": "3.8.5"
  }
 },
 "nbformat": 4,
 "nbformat_minor": 1
}
